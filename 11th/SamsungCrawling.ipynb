{
  "cells": [
    {
      "cell_type": "markdown",
      "metadata": {
        "id": "view-in-github",
        "colab_type": "text"
      },
      "source": [
        "<a href=\"https://colab.research.google.com/github/SeneKim/TAVE/blob/main/11th/SamsungCrawling.ipynb\" target=\"_parent\"><img src=\"https://colab.research.google.com/assets/colab-badge.svg\" alt=\"Open In Colab\"/></a>"
      ]
    },
    {
      "cell_type": "markdown",
      "metadata": {
        "id": "cMbfQcQvPLPA"
      },
      "source": [
        "## 네이버 API 사용"
      ]
    },
    {
      "cell_type": "code",
      "execution_count": null,
      "metadata": {
        "id": "vkEvIxHjqoX1"
      },
      "outputs": [],
      "source": [
        "import os\n",
        "import sys\n",
        "import urllib.request\n",
        "import datetime\n",
        "import time\n",
        "import json"
      ]
    },
    {
      "cell_type": "code",
      "execution_count": null,
      "metadata": {
        "id": "wb3S_qNlrRFu"
      },
      "outputs": [],
      "source": [
        "client_id = '7mgOzIKx3rx3UlqONPVy'\n",
        "client_secret = '_rGczNnaLl'"
      ]
    },
    {
      "cell_type": "code",
      "execution_count": null,
      "metadata": {
        "colab": {
          "base_uri": "https://localhost:8080/",
          "height": 146
        },
        "id": "o2jEb4Phsykg",
        "outputId": "170d790c-fbaa-4cd7-8507-e8315cd04ca5"
      },
      "outputs": [
        {
          "data": {
            "application/vnd.google.colaboratory.intrinsic+json": {
              "type": "string"
            },
            "text/plain": [
              "'   jsonResponse = getNaverSearch(node, srcText, 1, 100)  #[CODE 2]\\n    total = jsonResponse[\\'total\\']\\n    \\n    while((jsonResponse != None) and (jsonResponse[\\'display\\'] != 0)):\\n        for post in jsonResponse[\\'items\\']:\\n            cnt+= 1\\n            getPostData(post, jsonResult, cnt)   #[CODE 3]\\n            \\n        start = jsonResponse[\\'start\\'] + jsonResponse[\\'display\\']\\n        jsonResponse = getNaverSearch(node, srcText, start, 100)   #[CODE 2]\\n        \\n    print(\\'전체 검색 : %d 건\\' %total)\\n        \\n    with open(\\'%s_naver_%s.json\\' % (srcText, node), \\'w\\', encoding=\\'utf8\\') as outfile:\\n        jsonFile = json.dumps(jsonResult, indent=4, sort_keys = True, ensure_ascii = False)\\n            \\n        outfile.write(jsonFile)\\n            \\n    print(\"가져온 데이터 : %d 건\" %(cnt))\\n    print(\\'%s_naver_%s.json SAVED\\' % (srcText, node))'"
            ]
          },
          "execution_count": 49,
          "metadata": {},
          "output_type": "execute_result"
        }
      ],
      "source": [
        "#[CODE 1]\n",
        "def getRequestUrl(url):\n",
        "    req = urllib.request.Request(url)\n",
        "    req.add_header(\"X-Naver-Client-Id\", client_id)\n",
        "    req.add_header(\"X-Naver-Client-Secret\", client_secret)\n",
        "\n",
        "    try:\n",
        "        response = urllib.request.urlopen(req)\n",
        "        if response.getcode() == 200:\n",
        "            print(\"[%s]Url Request Success\" % datetime.datetime.now())\n",
        "            return response.read().decode('utf-8')\n",
        "    except Exception as e :\n",
        "        print(e)\n",
        "        print(\"[%s] Error for URL : %s\" % (datetime.datetime.now(), url))\n",
        "        return None\n",
        "\n",
        "#[CODE 2]\n",
        "def getNaverSearch(node, srcText, start, display):\n",
        "    base = \"https://openapi.naver.com/v1/search\"\n",
        "    node = \"/%s.json\" % node\n",
        "    parameters = \"?query=%s&start=%s&display=%s\" % (urllib.parse.quote(srcText), start, display)\n",
        "\n",
        "    url = base + node + parameters\n",
        "    responseDecode = getRequestUrl(url)     #[CODE 1]\n",
        "\n",
        "    if(responseDecode == None):\n",
        "        return None\n",
        "    else:\n",
        "        return json.loads(responseDecode)\n",
        "\n",
        "#[CODE 3]\n",
        "def getPostData(post, jsonResult, cnt):\n",
        "    title = post['title']\n",
        "    description = post['description']\n",
        "    org_link = post['originallink']\n",
        "    link = post['link']\n",
        "\n",
        "    pDate = datetime.datetime.strptime(post['pubDate'], '%a, %d %b %Y %H:%M:%S +0900')\n",
        "    pDate = pDate.strftime('%Y-%m-%d %H:%M:%S')\n",
        "\n",
        "    jsonResult.append({'cnt':cnt, 'title':title, 'description':description,\n",
        "                       'org_link':org_link, 'link':org_link, 'pDate':pDate})\n",
        "    return\n",
        "\n",
        "#[CODE 0]\n",
        "def main():\n",
        "    node = 'news'  #크롤링한 대상\n",
        "    srcText = input('검색어를 입력하세요: ')\n",
        "    cnt = 0\n",
        "    jsonResult = []\n",
        "\n",
        "    jsonResponse = getNaverSearch(node, srcText, 1, 100)  #[CODE 2]\n",
        "    total = jsonResponse['total']\n",
        "\n",
        "    while((jsonResponse != None) and (jsonResponse['display'] != 0)):\n",
        "        for post in jsonResponse['items']:\n",
        "            cnt+= 1\n",
        "            getPostData(post, jsonResult, cnt)   #[CODE 3]\n",
        "\n",
        "        start = jsonResponse['start'] + jsonResponse['display']\n",
        "        jsonResponse = getNaverSearch(node, srcText, start, 100)   #[CODE 2]\n",
        "\n",
        "    print('전체 검색 : %d 건' %total)\n",
        "\n",
        "    with open('%s_naver_%s.json' % (srcText, node), 'w', encoding='utf8') as outfile:\n",
        "        jsonFile = json.dumps(jsonResult, indent=4, sort_keys = True, ensure_ascii = False)\n",
        "\n",
        "        outfile.write(jsonFile)\n",
        "\n",
        "    print(\"가져온 데이터 : %d 건\" %(cnt))\n",
        "    print('%s_naver_%s.json SAVED' % (srcText, node))'''\n"
      ]
    },
    {
      "cell_type": "code",
      "execution_count": null,
      "metadata": {
        "id": "tzQGF1P6J6VZ"
      },
      "outputs": [],
      "source": [
        "if __name__ == '__main__':\n",
        "    main()"
      ]
    },
    {
      "cell_type": "markdown",
      "metadata": {
        "id": "axZVIjN2PIOq"
      },
      "source": [
        "## 동적 크롤링"
      ]
    },
    {
      "cell_type": "code",
      "execution_count": null,
      "metadata": {
        "id": "aPRaSPNSP5ec"
      },
      "outputs": [],
      "source": [
        "!pip install webdriver_manager\n",
        "!pip install selenium"
      ]
    },
    {
      "cell_type": "code",
      "execution_count": null,
      "metadata": {
        "id": "AbjPkY-xNBYZ"
      },
      "outputs": [],
      "source": [
        "#크롤링시 필요한 라이브러리 불러오기\n",
        "from bs4 import BeautifulSoup\n",
        "import requests\n",
        "import re\n",
        "import time\n",
        "from selenium import webdriver\n",
        "from selenium.webdriver.chrome.service import Service\n",
        "from webdriver_manager.chrome import ChromeDriverManager\n",
        "from selenium.webdriver.common.by import By\n",
        "from selenium.webdriver.chrome.service import Service\n",
        "from selenium.webdriver.chrome.options  import Options"
      ]
    },
    {
      "cell_type": "code",
      "execution_count": null,
      "metadata": {
        "id": "5XSW8cORSz-Q"
      },
      "outputs": [],
      "source": [
        "# 웹 드라이버 설정 - 웹 자동화 작업 수행\n",
        "options.add_experimental_option(\"excludeSwitches\", [\"enable-automation\"]) #특정 옵션 추가\n",
        "options.add_experimental_option(\"useAutomationExtension\", False)"
      ]
    },
    {
      "cell_type": "code",
      "execution_count": null,
      "metadata": {
        "id": "PnTHhc-yS5CI"
      },
      "outputs": [],
      "source": [
        "def makePgNum(num):\n",
        "    if num == 1:\n",
        "        return num\n",
        "    elif num == 0:\n",
        "        return num+1\n",
        "    else:\n",
        "        return num + 9 * (num-1)"
      ]
    },
    {
      "cell_type": "code",
      "execution_count": null,
      "metadata": {
        "id": "PFhB8U56S5Fv"
      },
      "outputs": [],
      "source": [
        "# 크롤링할 url 생성하는 함수 만들기(검색어, 크롤링 시작 페이지, 크롤링 종료 페이지)\n",
        "def makeUrl(search,start_pg,end_pg):\n",
        "    if start_pg == end_pg:\n",
        "        start_page = makePgNum(start_pg)\n",
        "        url = \"https://search.naver.com/search.naver?where=news&sm=tab_pge&query=\" + search + \"&start=\" + str(start_page)\n",
        "        print(\"생성url: \",url)\n",
        "        return url\n",
        "    else:\n",
        "        urls= []\n",
        "        for i in range(start_pg,end_pg+1):\n",
        "            page = makePgNum(i)\n",
        "            url = \"https://search.naver.com/search.naver?where=news&sm=tab_pge&query=\" + search + \"&start=\" + str(page)\n",
        "            urls.append(url)\n",
        "        #print(\"생성url: \",urls)\n",
        "        return urls"
      ]
    },
    {
      "cell_type": "code",
      "execution_count": null,
      "metadata": {
        "colab": {
          "base_uri": "https://localhost:8080/"
        },
        "id": "MEV0kDiqTW4U",
        "outputId": "686db58f-90ea-48c5-e605-5ca44a6ddf42"
      },
      "outputs": [
        {
          "name": "stdout",
          "output_type": "stream",
          "text": [
            "검색할 키워드를 입력해주세요:삼성전자 주가\n"
          ]
        }
      ],
      "source": [
        "#검색어 입력\n",
        "search = input(\"검색할 키워드를 입력해주세요:\")"
      ]
    },
    {
      "cell_type": "code",
      "execution_count": null,
      "metadata": {
        "colab": {
          "base_uri": "https://localhost:8080/"
        },
        "id": "y6FxUnoTTZSa",
        "outputId": "ccaf876e-b479-4dbc-c84e-89ccf20401e3"
      },
      "outputs": [
        {
          "name": "stdout",
          "output_type": "stream",
          "text": [
            "\n",
            "크롤링할 시작 페이지를 입력해주세요. ex)1(숫자만입력):1\n",
            "\n",
            "크롤링할 시작 페이지:  1 페이지\n",
            "\n",
            "크롤링할 종료 페이지를 입력해주세요. ex)1(숫자만입력):40\n",
            "\n",
            "크롤링할 종료 페이지:  40 페이지\n",
            "생성url:  ['https://search.naver.com/search.naver?where=news&sm=tab_pge&query=삼성전자 주가&start=1', 'https://search.naver.com/search.naver?where=news&sm=tab_pge&query=삼성전자 주가&start=11', 'https://search.naver.com/search.naver?where=news&sm=tab_pge&query=삼성전자 주가&start=21', 'https://search.naver.com/search.naver?where=news&sm=tab_pge&query=삼성전자 주가&start=31', 'https://search.naver.com/search.naver?where=news&sm=tab_pge&query=삼성전자 주가&start=41', 'https://search.naver.com/search.naver?where=news&sm=tab_pge&query=삼성전자 주가&start=51', 'https://search.naver.com/search.naver?where=news&sm=tab_pge&query=삼성전자 주가&start=61', 'https://search.naver.com/search.naver?where=news&sm=tab_pge&query=삼성전자 주가&start=71', 'https://search.naver.com/search.naver?where=news&sm=tab_pge&query=삼성전자 주가&start=81', 'https://search.naver.com/search.naver?where=news&sm=tab_pge&query=삼성전자 주가&start=91', 'https://search.naver.com/search.naver?where=news&sm=tab_pge&query=삼성전자 주가&start=101', 'https://search.naver.com/search.naver?where=news&sm=tab_pge&query=삼성전자 주가&start=111', 'https://search.naver.com/search.naver?where=news&sm=tab_pge&query=삼성전자 주가&start=121', 'https://search.naver.com/search.naver?where=news&sm=tab_pge&query=삼성전자 주가&start=131', 'https://search.naver.com/search.naver?where=news&sm=tab_pge&query=삼성전자 주가&start=141', 'https://search.naver.com/search.naver?where=news&sm=tab_pge&query=삼성전자 주가&start=151', 'https://search.naver.com/search.naver?where=news&sm=tab_pge&query=삼성전자 주가&start=161', 'https://search.naver.com/search.naver?where=news&sm=tab_pge&query=삼성전자 주가&start=171', 'https://search.naver.com/search.naver?where=news&sm=tab_pge&query=삼성전자 주가&start=181', 'https://search.naver.com/search.naver?where=news&sm=tab_pge&query=삼성전자 주가&start=191', 'https://search.naver.com/search.naver?where=news&sm=tab_pge&query=삼성전자 주가&start=201', 'https://search.naver.com/search.naver?where=news&sm=tab_pge&query=삼성전자 주가&start=211', 'https://search.naver.com/search.naver?where=news&sm=tab_pge&query=삼성전자 주가&start=221', 'https://search.naver.com/search.naver?where=news&sm=tab_pge&query=삼성전자 주가&start=231', 'https://search.naver.com/search.naver?where=news&sm=tab_pge&query=삼성전자 주가&start=241', 'https://search.naver.com/search.naver?where=news&sm=tab_pge&query=삼성전자 주가&start=251', 'https://search.naver.com/search.naver?where=news&sm=tab_pge&query=삼성전자 주가&start=261', 'https://search.naver.com/search.naver?where=news&sm=tab_pge&query=삼성전자 주가&start=271', 'https://search.naver.com/search.naver?where=news&sm=tab_pge&query=삼성전자 주가&start=281', 'https://search.naver.com/search.naver?where=news&sm=tab_pge&query=삼성전자 주가&start=291', 'https://search.naver.com/search.naver?where=news&sm=tab_pge&query=삼성전자 주가&start=301', 'https://search.naver.com/search.naver?where=news&sm=tab_pge&query=삼성전자 주가&start=311', 'https://search.naver.com/search.naver?where=news&sm=tab_pge&query=삼성전자 주가&start=321', 'https://search.naver.com/search.naver?where=news&sm=tab_pge&query=삼성전자 주가&start=331', 'https://search.naver.com/search.naver?where=news&sm=tab_pge&query=삼성전자 주가&start=341', 'https://search.naver.com/search.naver?where=news&sm=tab_pge&query=삼성전자 주가&start=351', 'https://search.naver.com/search.naver?where=news&sm=tab_pge&query=삼성전자 주가&start=361', 'https://search.naver.com/search.naver?where=news&sm=tab_pge&query=삼성전자 주가&start=371', 'https://search.naver.com/search.naver?where=news&sm=tab_pge&query=삼성전자 주가&start=381', 'https://search.naver.com/search.naver?where=news&sm=tab_pge&query=삼성전자 주가&start=391']\n"
          ]
        }
      ],
      "source": [
        "#검색 시작할 페이지 입력\n",
        "page = int(input(\"\\n크롤링할 시작 페이지를 입력해주세요. ex)1(숫자만입력):\")) # ex)1 =1페이지,2=2페이지...\n",
        "print(\"\\n크롤링할 시작 페이지: \",page,\"페이지\")\n",
        "#검색 종료할 페이지 입력\n",
        "page2 = int(input(\"\\n크롤링할 종료 페이지를 입력해주세요. ex)1(숫자만입력):\")) # ex)1 =1페이지,2=2페이지...\n",
        "print(\"\\n크롤링할 종료 페이지: \",page2,\"페이지\")\n",
        "\n",
        "# naver url 생성\n",
        "\n",
        "search_urls = makeUrl(search, page, page2)"
      ]
    },
    {
      "cell_type": "code",
      "execution_count": null,
      "metadata": {
        "colab": {
          "base_uri": "https://localhost:8080/",
          "height": 749
        },
        "id": "ja447YXQTZVL",
        "outputId": "6093ddd7-0195-4d5e-f7ee-4a9f6eaada8c"
      },
      "outputs": [
        {
          "ename": "WebDriverException",
          "evalue": "ignored",
          "output_type": "error",
          "traceback": [
            "\u001b[0;31m---------------------------------------------------------------------------\u001b[0m",
            "\u001b[0;31mWebDriverException\u001b[0m                        Traceback (most recent call last)",
            "\u001b[0;32m<ipython-input-30-3502bdc5df27>\u001b[0m in \u001b[0;36m<cell line: 3>\u001b[0;34m()\u001b[0m\n\u001b[1;32m      1\u001b[0m \u001b[0;31m# 버전에 상관 없이 os에 설치된 크롬 브라우저 사용\u001b[0m\u001b[0;34m\u001b[0m\u001b[0;34m\u001b[0m\u001b[0m\n\u001b[1;32m      2\u001b[0m \u001b[0mservice\u001b[0m\u001b[0;34m=\u001b[0m\u001b[0mService\u001b[0m\u001b[0;34m(\u001b[0m\u001b[0mChromeDriverManager\u001b[0m\u001b[0;34m(\u001b[0m\u001b[0;34m)\u001b[0m\u001b[0;34m.\u001b[0m\u001b[0minstall\u001b[0m\u001b[0;34m(\u001b[0m\u001b[0;34m)\u001b[0m\u001b[0;34m)\u001b[0m\u001b[0;34m\u001b[0m\u001b[0;34m\u001b[0m\u001b[0m\n\u001b[0;32m----> 3\u001b[0;31m \u001b[0mdriver\u001b[0m \u001b[0;34m=\u001b[0m \u001b[0mwebdriver\u001b[0m\u001b[0;34m.\u001b[0m\u001b[0mChrome\u001b[0m\u001b[0;34m(\u001b[0m\u001b[0mservice\u001b[0m\u001b[0;34m=\u001b[0m\u001b[0mservice\u001b[0m\u001b[0;34m)\u001b[0m\u001b[0;34m\u001b[0m\u001b[0;34m\u001b[0m\u001b[0m\n\u001b[0m\u001b[1;32m      4\u001b[0m \u001b[0mdriver\u001b[0m\u001b[0;34m.\u001b[0m\u001b[0mimplicitly_wait\u001b[0m\u001b[0;34m(\u001b[0m\u001b[0;36m3\u001b[0m\u001b[0;34m)\u001b[0m\u001b[0;34m\u001b[0m\u001b[0;34m\u001b[0m\u001b[0m\n\u001b[1;32m      5\u001b[0m \u001b[0mdriver\u001b[0m\u001b[0;34m.\u001b[0m\u001b[0madd_argument\u001b[0m\u001b[0;34m(\u001b[0m\u001b[0;34m\"headless\"\u001b[0m\u001b[0;34m)\u001b[0m\u001b[0;34m\u001b[0m\u001b[0;34m\u001b[0m\u001b[0m\n",
            "\u001b[0;32m/usr/local/lib/python3.10/dist-packages/selenium/webdriver/chrome/webdriver.py\u001b[0m in \u001b[0;36m__init__\u001b[0;34m(self, options, service, keep_alive)\u001b[0m\n\u001b[1;32m     47\u001b[0m         \u001b[0mself\u001b[0m\u001b[0;34m.\u001b[0m\u001b[0mservice\u001b[0m\u001b[0;34m.\u001b[0m\u001b[0mpath\u001b[0m \u001b[0;34m=\u001b[0m \u001b[0mDriverFinder\u001b[0m\u001b[0;34m.\u001b[0m\u001b[0mget_path\u001b[0m\u001b[0;34m(\u001b[0m\u001b[0mself\u001b[0m\u001b[0;34m.\u001b[0m\u001b[0mservice\u001b[0m\u001b[0;34m,\u001b[0m \u001b[0mself\u001b[0m\u001b[0;34m.\u001b[0m\u001b[0moptions\u001b[0m\u001b[0;34m)\u001b[0m\u001b[0;34m\u001b[0m\u001b[0;34m\u001b[0m\u001b[0m\n\u001b[1;32m     48\u001b[0m \u001b[0;34m\u001b[0m\u001b[0m\n\u001b[0;32m---> 49\u001b[0;31m         super().__init__(\n\u001b[0m\u001b[1;32m     50\u001b[0m             \u001b[0mDesiredCapabilities\u001b[0m\u001b[0;34m.\u001b[0m\u001b[0mCHROME\u001b[0m\u001b[0;34m[\u001b[0m\u001b[0;34m\"browserName\"\u001b[0m\u001b[0;34m]\u001b[0m\u001b[0;34m,\u001b[0m\u001b[0;34m\u001b[0m\u001b[0;34m\u001b[0m\u001b[0m\n\u001b[1;32m     51\u001b[0m             \u001b[0;34m\"goog\"\u001b[0m\u001b[0;34m,\u001b[0m\u001b[0;34m\u001b[0m\u001b[0;34m\u001b[0m\u001b[0m\n",
            "\u001b[0;32m/usr/local/lib/python3.10/dist-packages/selenium/webdriver/chromium/webdriver.py\u001b[0m in \u001b[0;36m__init__\u001b[0;34m(self, browser_name, vendor_prefix, options, service, keep_alive)\u001b[0m\n\u001b[1;32m     52\u001b[0m \u001b[0;34m\u001b[0m\u001b[0m\n\u001b[1;32m     53\u001b[0m         \u001b[0;32mtry\u001b[0m\u001b[0;34m:\u001b[0m\u001b[0;34m\u001b[0m\u001b[0;34m\u001b[0m\u001b[0m\n\u001b[0;32m---> 54\u001b[0;31m             super().__init__(\n\u001b[0m\u001b[1;32m     55\u001b[0m                 command_executor=ChromiumRemoteConnection(\n\u001b[1;32m     56\u001b[0m                     \u001b[0mremote_server_addr\u001b[0m\u001b[0;34m=\u001b[0m\u001b[0mself\u001b[0m\u001b[0;34m.\u001b[0m\u001b[0mservice\u001b[0m\u001b[0;34m.\u001b[0m\u001b[0mservice_url\u001b[0m\u001b[0;34m,\u001b[0m\u001b[0;34m\u001b[0m\u001b[0;34m\u001b[0m\u001b[0m\n",
            "\u001b[0;32m/usr/local/lib/python3.10/dist-packages/selenium/webdriver/remote/webdriver.py\u001b[0m in \u001b[0;36m__init__\u001b[0;34m(self, command_executor, keep_alive, file_detector, options)\u001b[0m\n\u001b[1;32m    204\u001b[0m         \u001b[0mself\u001b[0m\u001b[0;34m.\u001b[0m\u001b[0m_authenticator_id\u001b[0m \u001b[0;34m=\u001b[0m \u001b[0;32mNone\u001b[0m\u001b[0;34m\u001b[0m\u001b[0;34m\u001b[0m\u001b[0m\n\u001b[1;32m    205\u001b[0m         \u001b[0mself\u001b[0m\u001b[0;34m.\u001b[0m\u001b[0mstart_client\u001b[0m\u001b[0;34m(\u001b[0m\u001b[0;34m)\u001b[0m\u001b[0;34m\u001b[0m\u001b[0;34m\u001b[0m\u001b[0m\n\u001b[0;32m--> 206\u001b[0;31m         \u001b[0mself\u001b[0m\u001b[0;34m.\u001b[0m\u001b[0mstart_session\u001b[0m\u001b[0;34m(\u001b[0m\u001b[0mcapabilities\u001b[0m\u001b[0;34m)\u001b[0m\u001b[0;34m\u001b[0m\u001b[0;34m\u001b[0m\u001b[0m\n\u001b[0m\u001b[1;32m    207\u001b[0m \u001b[0;34m\u001b[0m\u001b[0m\n\u001b[1;32m    208\u001b[0m     \u001b[0;32mdef\u001b[0m \u001b[0m__repr__\u001b[0m\u001b[0;34m(\u001b[0m\u001b[0mself\u001b[0m\u001b[0;34m)\u001b[0m\u001b[0;34m:\u001b[0m\u001b[0;34m\u001b[0m\u001b[0;34m\u001b[0m\u001b[0m\n",
            "\u001b[0;32m/usr/local/lib/python3.10/dist-packages/selenium/webdriver/remote/webdriver.py\u001b[0m in \u001b[0;36mstart_session\u001b[0;34m(self, capabilities)\u001b[0m\n\u001b[1;32m    289\u001b[0m \u001b[0;34m\u001b[0m\u001b[0m\n\u001b[1;32m    290\u001b[0m         \u001b[0mcaps\u001b[0m \u001b[0;34m=\u001b[0m \u001b[0m_create_caps\u001b[0m\u001b[0;34m(\u001b[0m\u001b[0mcapabilities\u001b[0m\u001b[0;34m)\u001b[0m\u001b[0;34m\u001b[0m\u001b[0;34m\u001b[0m\u001b[0m\n\u001b[0;32m--> 291\u001b[0;31m         \u001b[0mresponse\u001b[0m \u001b[0;34m=\u001b[0m \u001b[0mself\u001b[0m\u001b[0;34m.\u001b[0m\u001b[0mexecute\u001b[0m\u001b[0;34m(\u001b[0m\u001b[0mCommand\u001b[0m\u001b[0;34m.\u001b[0m\u001b[0mNEW_SESSION\u001b[0m\u001b[0;34m,\u001b[0m \u001b[0mcaps\u001b[0m\u001b[0;34m)\u001b[0m\u001b[0;34m[\u001b[0m\u001b[0;34m\"value\"\u001b[0m\u001b[0;34m]\u001b[0m\u001b[0;34m\u001b[0m\u001b[0;34m\u001b[0m\u001b[0m\n\u001b[0m\u001b[1;32m    292\u001b[0m         \u001b[0mself\u001b[0m\u001b[0;34m.\u001b[0m\u001b[0msession_id\u001b[0m \u001b[0;34m=\u001b[0m \u001b[0mresponse\u001b[0m\u001b[0;34m.\u001b[0m\u001b[0mget\u001b[0m\u001b[0;34m(\u001b[0m\u001b[0;34m\"sessionId\"\u001b[0m\u001b[0;34m)\u001b[0m\u001b[0;34m\u001b[0m\u001b[0;34m\u001b[0m\u001b[0m\n\u001b[1;32m    293\u001b[0m         \u001b[0mself\u001b[0m\u001b[0;34m.\u001b[0m\u001b[0mcaps\u001b[0m \u001b[0;34m=\u001b[0m \u001b[0mresponse\u001b[0m\u001b[0;34m.\u001b[0m\u001b[0mget\u001b[0m\u001b[0;34m(\u001b[0m\u001b[0;34m\"capabilities\"\u001b[0m\u001b[0;34m)\u001b[0m\u001b[0;34m\u001b[0m\u001b[0;34m\u001b[0m\u001b[0m\n",
            "\u001b[0;32m/usr/local/lib/python3.10/dist-packages/selenium/webdriver/remote/webdriver.py\u001b[0m in \u001b[0;36mexecute\u001b[0;34m(self, driver_command, params)\u001b[0m\n\u001b[1;32m    344\u001b[0m         \u001b[0mresponse\u001b[0m \u001b[0;34m=\u001b[0m \u001b[0mself\u001b[0m\u001b[0;34m.\u001b[0m\u001b[0mcommand_executor\u001b[0m\u001b[0;34m.\u001b[0m\u001b[0mexecute\u001b[0m\u001b[0;34m(\u001b[0m\u001b[0mdriver_command\u001b[0m\u001b[0;34m,\u001b[0m \u001b[0mparams\u001b[0m\u001b[0;34m)\u001b[0m\u001b[0;34m\u001b[0m\u001b[0;34m\u001b[0m\u001b[0m\n\u001b[1;32m    345\u001b[0m         \u001b[0;32mif\u001b[0m \u001b[0mresponse\u001b[0m\u001b[0;34m:\u001b[0m\u001b[0;34m\u001b[0m\u001b[0;34m\u001b[0m\u001b[0m\n\u001b[0;32m--> 346\u001b[0;31m             \u001b[0mself\u001b[0m\u001b[0;34m.\u001b[0m\u001b[0merror_handler\u001b[0m\u001b[0;34m.\u001b[0m\u001b[0mcheck_response\u001b[0m\u001b[0;34m(\u001b[0m\u001b[0mresponse\u001b[0m\u001b[0;34m)\u001b[0m\u001b[0;34m\u001b[0m\u001b[0;34m\u001b[0m\u001b[0m\n\u001b[0m\u001b[1;32m    347\u001b[0m             \u001b[0mresponse\u001b[0m\u001b[0;34m[\u001b[0m\u001b[0;34m\"value\"\u001b[0m\u001b[0;34m]\u001b[0m \u001b[0;34m=\u001b[0m \u001b[0mself\u001b[0m\u001b[0;34m.\u001b[0m\u001b[0m_unwrap_value\u001b[0m\u001b[0;34m(\u001b[0m\u001b[0mresponse\u001b[0m\u001b[0;34m.\u001b[0m\u001b[0mget\u001b[0m\u001b[0;34m(\u001b[0m\u001b[0;34m\"value\"\u001b[0m\u001b[0;34m,\u001b[0m \u001b[0;32mNone\u001b[0m\u001b[0;34m)\u001b[0m\u001b[0;34m)\u001b[0m\u001b[0;34m\u001b[0m\u001b[0;34m\u001b[0m\u001b[0m\n\u001b[1;32m    348\u001b[0m             \u001b[0;32mreturn\u001b[0m \u001b[0mresponse\u001b[0m\u001b[0;34m\u001b[0m\u001b[0;34m\u001b[0m\u001b[0m\n",
            "\u001b[0;32m/usr/local/lib/python3.10/dist-packages/selenium/webdriver/remote/errorhandler.py\u001b[0m in \u001b[0;36mcheck_response\u001b[0;34m(self, response)\u001b[0m\n\u001b[1;32m    243\u001b[0m                 \u001b[0malert_text\u001b[0m \u001b[0;34m=\u001b[0m \u001b[0mvalue\u001b[0m\u001b[0;34m[\u001b[0m\u001b[0;34m\"alert\"\u001b[0m\u001b[0;34m]\u001b[0m\u001b[0;34m.\u001b[0m\u001b[0mget\u001b[0m\u001b[0;34m(\u001b[0m\u001b[0;34m\"text\"\u001b[0m\u001b[0;34m)\u001b[0m\u001b[0;34m\u001b[0m\u001b[0;34m\u001b[0m\u001b[0m\n\u001b[1;32m    244\u001b[0m             \u001b[0;32mraise\u001b[0m \u001b[0mexception_class\u001b[0m\u001b[0;34m(\u001b[0m\u001b[0mmessage\u001b[0m\u001b[0;34m,\u001b[0m \u001b[0mscreen\u001b[0m\u001b[0;34m,\u001b[0m \u001b[0mstacktrace\u001b[0m\u001b[0;34m,\u001b[0m \u001b[0malert_text\u001b[0m\u001b[0;34m)\u001b[0m  \u001b[0;31m# type: ignore[call-arg]  # mypy is not smart enough here\u001b[0m\u001b[0;34m\u001b[0m\u001b[0;34m\u001b[0m\u001b[0m\n\u001b[0;32m--> 245\u001b[0;31m         \u001b[0;32mraise\u001b[0m \u001b[0mexception_class\u001b[0m\u001b[0;34m(\u001b[0m\u001b[0mmessage\u001b[0m\u001b[0;34m,\u001b[0m \u001b[0mscreen\u001b[0m\u001b[0;34m,\u001b[0m \u001b[0mstacktrace\u001b[0m\u001b[0;34m)\u001b[0m\u001b[0;34m\u001b[0m\u001b[0;34m\u001b[0m\u001b[0m\n\u001b[0m",
            "\u001b[0;31mWebDriverException\u001b[0m: Message: unknown error: cannot find Chrome binary\nStacktrace:\n#0 0x5556495cd4e3 <unknown>\n#1 0x5556492fcc76 <unknown>\n#2 0x555649323757 <unknown>\n#3 0x555649322029 <unknown>\n#4 0x555649360ccc <unknown>\n#5 0x55564936047f <unknown>\n#6 0x555649357de3 <unknown>\n#7 0x55564932d2dd <unknown>\n#8 0x55564932e34e <unknown>\n#9 0x55564958d3e4 <unknown>\n#10 0x5556495913d7 <unknown>\n#11 0x55564959bb20 <unknown>\n#12 0x555649592023 <unknown>\n#13 0x5556495601aa <unknown>\n#14 0x5556495b66b8 <unknown>\n#15 0x5556495b6847 <unknown>\n#16 0x5556495c6243 <unknown>\n#17 0x7f654ec5f609 start_thread\n"
          ]
        }
      ],
      "source": [
        "# 버전에 상관 없이 os에 설치된 크롬 브라우저 사용\n",
        "service=Service(ChromeDriverManager().install())\n",
        "driver = webdriver.Chrome(service=service)\n",
        "driver.implicitly_wait(3)\n",
        "driver.add_argument(\"headless\")\n",
        "\n",
        "naver_urls = []\n",
        "\n",
        "for i in search_urls:\n",
        "    driver.get(i)\n",
        "    time.sleep(1)  # 대기시간 변경 가능\n",
        "\n",
        "    # 네이버 기사 눌러서 제목 및 본문 가져오기#\n",
        "    # 네이버 기사가 있는 기사 css selector 모아오기\n",
        "    a = driver.find_elements(By.CSS_SELECTOR, 'a.info')\n",
        "\n",
        "    # 위에서 생성한 css selector list 하나씩 클릭하여 본문 url얻기\n",
        "    for i in a:\n",
        "        i.click()\n",
        "\n",
        "        # 현재탭에 접근\n",
        "        driver.switch_to.window(driver.window_handles[1])\n",
        "        time.sleep(3)  # 대기시간 변경 가능\n",
        "\n",
        "        # 네이버 뉴스 url만 가져오기\n",
        "        url = driver.current_url\n",
        "        #print(url)\n",
        "\n",
        "        if \"news.naver.com\" in url:\n",
        "            naver_urls.append(url)\n",
        "\n",
        "        else:\n",
        "            pass\n",
        "        # 현재 탭 닫기\n",
        "        driver.close()\n",
        "        # 다시처음 탭으로 돌아가기(매우 중요!!!)\n",
        "        driver.switch_to.window(driver.window_handles[0])\n",
        "\n",
        "print(naver_urls)\n",
        "\n",
        "###naver 기사 본문 및 제목 가져오기###\n",
        "\n",
        "# ConnectionError방지\n",
        "headers = {\"User-Agent\": \"Mozilla/5.0 (Windows NT 10.0; Win64; x64) Chrome/98.0.4758.102\"}\n",
        "\n",
        "titles = []\n",
        "contents = []\n",
        "for i in naver_urls:\n",
        "    original_html = requests.get(i, headers=headers)\n",
        "    html = BeautifulSoup(original_html.text, \"html.parser\")\n",
        "    # 검색결과확인시\n",
        "    # print(html)\n",
        "\n",
        "    # 뉴스 제목 가져오기\n",
        "    title = html.select(\"div#ct > div.media_end_head.go_trans > div.media_end_head_title > h2\")\n",
        "    # list합치기\n",
        "    title = ''.join(str(title))\n",
        "    # html태그제거\n",
        "    pattern1 = '<[^>]*>'\n",
        "    title = re.sub(pattern=pattern1, repl='', string=title)\n",
        "    titles.append(title)\n",
        "\n",
        "    # 뉴스 본문 가져오기\n",
        "    content = html.select(\"div#dic_area\")\n",
        "\n",
        "    # 기사 텍스트만 가져오기\n",
        "    # list합치기\n",
        "    content = ''.join(str(content))\n",
        "\n",
        "    # html태그제거 및 텍스트 다듬기\n",
        "    content = re.sub(pattern=pattern1, repl='', string=content)\n",
        "    pattern2 = \"\"\"[\\n\\n\\n\\n\\n// flash 오류를 우회하기 위한 함수 추가\\nfunction _flash_removeCallback() {}\"\"\"\n",
        "    content = content.replace(pattern2, '')\n",
        "\n",
        "    contents.append(content)\n",
        "\n",
        "print(titles)\n",
        "print(contents)\n",
        "\n",
        "# 데이터프레임으로 정리(titles,url,contents)\n",
        "import pandas as pd\n",
        "\n",
        "news_df = pd.DataFrame({'title': titles, 'link': naver_urls, 'content': contents})\n",
        "\n",
        "news_df.to_csv('NaverNews_%s.csv' % search, index=False, encoding='utf-8')"
      ]
    },
    {
      "cell_type": "code",
      "execution_count": null,
      "metadata": {
        "id": "DJI3ny_96YKh"
      },
      "outputs": [],
      "source": []
    },
    {
      "cell_type": "markdown",
      "metadata": {
        "id": "36zspGNbDPpJ"
      },
      "source": [
        "## 기타"
      ]
    },
    {
      "cell_type": "markdown",
      "metadata": {
        "id": "NlvZxMuCyLFZ"
      },
      "source": [
        "기간: 2022.01 ~ 2023.05.31 → 크롤링 / 네이버에서 실행\n",
        "\n",
        "호재 뉴스 키워드\n",
        "\n",
        "- 주가 상승\n",
        "- 고배당\n",
        "- 실적 개선\n",
        "- 수주 확보\n",
        "\n",
        "악재 뉴스 키워드\n",
        "\n",
        "- 주가 하락\n",
        "- 실적 약화\n",
        "- 저배당\n",
        "- 제품 결함 / 리콜\n",
        "- 시장 악화\n"
      ]
    },
    {
      "cell_type": "code",
      "execution_count": null,
      "metadata": {
        "id": "tXa1rPpgHET5"
      },
      "outputs": [],
      "source": [
        "# 반드시 설치 필요\n",
        "!pip install newspaper3K"
      ]
    },
    {
      "cell_type": "code",
      "execution_count": null,
      "metadata": {
        "id": "gk0leTkIDOLh"
      },
      "outputs": [],
      "source": [
        "import requests\n",
        "import csv\n",
        "from bs4 import BeautifulSoup\n",
        "from newspaper import Article, Config\n",
        "from tqdm import tqdm\n",
        "from datetime import datetime\n",
        "\n",
        "# newspaper 설정\n",
        "config = Config()\n",
        "config.language = 'ko'"
      ]
    },
    {
      "cell_type": "code",
      "execution_count": null,
      "metadata": {
        "id": "SAHsYI9-SxrM"
      },
      "outputs": [],
      "source": [
        "'''\n",
        "검색하기 위한 url을 만드는 함수\n",
        "query = \"검색어 입력\"\n",
        "ds = \"시작 날짜\"\n",
        "de = \"종료 날짜\"\n",
        "\n",
        "날짜 형식은 반드시 2023.06.24 같이 \".\"을 구분자로 사용할 것\n",
        "\n",
        "'''\n",
        "\n",
        "def make_dir(keyword, start_date, end_date):\n",
        "  keyword = keyword.replace(\" \", \"+\")\n",
        "  conv_start_date = start_date.replace(\".\", \"\")\n",
        "  conv_end_date = end_date.replace(\".\", \"\")\n",
        "  base_url = f\"https://search.naver.com/search.naver?where=news&sm=tab_pge&query={keyword}&sort=0&photo=0&field=0&pd=3&ds={start_date}&de={end_date}&cluster_rank=174&mynews=0&office_type=0&office_section_code=0&news_office_checked=&nso=so:r,p:from{conv_start_date}to{conv_end_date},a:all\" #키워드 입력\n",
        "\n",
        "  return base_url"
      ]
    },
    {
      "cell_type": "code",
      "execution_count": null,
      "metadata": {
        "id": "ILPBGwJljL0t"
      },
      "outputs": [],
      "source": [
        "# 검색할 키워드와 날짜를 지정합니다. 시장 악화 /제품 결함 - 리콜\n",
        "keyword = \"삼성전자 리콜\"\n",
        "start_date = \"2022.01.01\"\n",
        "end_date = \"2023.05.31\"\n",
        "\n",
        "base_url = make_dir(keyword, start_date, end_date)"
      ]
    },
    {
      "cell_type": "code",
      "execution_count": null,
      "metadata": {
        "colab": {
          "base_uri": "https://localhost:8080/"
        },
        "id": "FNbSTCcyMYJx",
        "outputId": "bcb4dca2-2d9d-4baf-89c5-9e1919273adc"
      },
      "outputs": [
        {
          "output_type": "stream",
          "name": "stderr",
          "text": [
            "100%|██████████| 10/10 [00:23<00:00,  2.30s/it]\n",
            "100%|██████████| 10/10 [00:16<00:00,  1.67s/it]\n",
            "100%|██████████| 10/10 [00:24<00:00,  2.46s/it]\n",
            "100%|██████████| 10/10 [00:18<00:00,  1.85s/it]\n",
            "100%|██████████| 10/10 [00:17<00:00,  1.76s/it]\n",
            "100%|██████████| 10/10 [00:19<00:00,  1.99s/it]\n",
            "100%|██████████| 10/10 [00:14<00:00,  1.49s/it]\n",
            "100%|██████████| 10/10 [00:16<00:00,  1.64s/it]\n",
            "100%|██████████| 10/10 [00:16<00:00,  1.68s/it]\n",
            "100%|██████████| 10/10 [00:18<00:00,  1.90s/it]\n",
            "100%|██████████| 10/10 [00:12<00:00,  1.21s/it]\n",
            "100%|██████████| 10/10 [00:15<00:00,  1.58s/it]\n",
            "100%|██████████| 10/10 [00:14<00:00,  1.43s/it]\n",
            "100%|██████████| 10/10 [00:17<00:00,  1.76s/it]\n",
            "100%|██████████| 10/10 [00:17<00:00,  1.75s/it]\n",
            "100%|██████████| 10/10 [00:14<00:00,  1.49s/it]\n",
            "100%|██████████| 10/10 [00:12<00:00,  1.26s/it]\n",
            "100%|██████████| 10/10 [00:13<00:00,  1.32s/it]\n",
            "100%|██████████| 10/10 [00:19<00:00,  1.93s/it]\n",
            "100%|██████████| 10/10 [00:16<00:00,  1.67s/it]\n",
            "100%|██████████| 10/10 [00:24<00:00,  2.47s/it]\n",
            "100%|██████████| 10/10 [00:14<00:00,  1.43s/it]\n",
            "100%|██████████| 10/10 [00:20<00:00,  2.08s/it]\n",
            "100%|██████████| 10/10 [00:22<00:00,  2.22s/it]\n",
            "100%|██████████| 10/10 [00:18<00:00,  1.83s/it]\n",
            "100%|██████████| 10/10 [00:12<00:00,  1.26s/it]\n",
            "100%|██████████| 10/10 [00:11<00:00,  1.13s/it]\n",
            "100%|██████████| 10/10 [00:14<00:00,  1.49s/it]\n",
            "100%|██████████| 10/10 [00:18<00:00,  1.89s/it]\n",
            "100%|██████████| 10/10 [00:17<00:00,  1.78s/it]\n",
            "100%|██████████| 10/10 [00:22<00:00,  2.26s/it]\n",
            "100%|██████████| 10/10 [00:21<00:00,  2.16s/it]\n",
            "100%|██████████| 10/10 [00:16<00:00,  1.64s/it]\n",
            "100%|██████████| 10/10 [00:20<00:00,  2.07s/it]\n",
            "100%|██████████| 10/10 [00:29<00:00,  2.98s/it]\n",
            "100%|██████████| 10/10 [00:19<00:00,  1.91s/it]\n",
            "100%|██████████| 10/10 [00:23<00:00,  2.36s/it]\n",
            "100%|██████████| 10/10 [00:20<00:00,  2.00s/it]\n",
            "100%|██████████| 10/10 [00:19<00:00,  1.94s/it]\n",
            "100%|██████████| 10/10 [00:21<00:00,  2.19s/it]\n",
            "100%|██████████| 10/10 [00:19<00:00,  1.98s/it]\n",
            "100%|██████████| 10/10 [00:29<00:00,  2.91s/it]\n",
            "100%|██████████| 10/10 [00:23<00:00,  2.40s/it]\n",
            "100%|██████████| 10/10 [00:23<00:00,  2.36s/it]\n",
            "100%|██████████| 10/10 [00:22<00:00,  2.27s/it]\n",
            "100%|██████████| 10/10 [00:18<00:00,  1.83s/it]\n",
            "100%|██████████| 10/10 [00:26<00:00,  2.64s/it]\n",
            "100%|██████████| 10/10 [00:17<00:00,  1.78s/it]\n",
            "100%|██████████| 10/10 [00:21<00:00,  2.14s/it]\n",
            "100%|██████████| 10/10 [00:18<00:00,  1.88s/it]\n",
            "100%|██████████| 10/10 [00:30<00:00,  3.07s/it]\n",
            "100%|██████████| 10/10 [00:15<00:00,  1.57s/it]\n",
            "100%|██████████| 10/10 [00:22<00:00,  2.29s/it]\n",
            "100%|██████████| 10/10 [00:17<00:00,  1.78s/it]\n",
            "100%|██████████| 10/10 [00:15<00:00,  1.56s/it]\n",
            "100%|██████████| 10/10 [00:16<00:00,  1.63s/it]\n",
            "100%|██████████| 10/10 [00:21<00:00,  2.14s/it]\n",
            "100%|██████████| 10/10 [00:25<00:00,  2.50s/it]\n",
            "100%|██████████| 10/10 [00:25<00:00,  2.52s/it]\n",
            "100%|██████████| 10/10 [00:21<00:00,  2.15s/it]\n",
            "100%|██████████| 7/7 [00:16<00:00,  2.30s/it]\n"
          ]
        },
        {
          "output_type": "stream",
          "name": "stdout",
          "text": [
            "\n",
            "뉴스 기사가 '삼성전자 리콜_To_2022.01.01_From_2023.05.31.csv' 파일로 저장되었습니다.\n"
          ]
        }
      ],
      "source": [
        "# page_num은 건드리지 말 것\n",
        "page_num = 1\n",
        "\n",
        "# 크롤링 정보를 저장할 리스트 생성\n",
        "articles = []\n",
        "\n",
        "while True:\n",
        "  # URL에 GET 요청을 보내고 응답을 받음, base에 기반한 page url 생성\n",
        "  url = base_url + f\"&start={page_num}\"\n",
        "  response = requests.get(url) # -> 날짜가 검색된 네이버 뉴스 페이지로 이동\n",
        "\n",
        "  if response.status_code == 200: # 응답이 있음\n",
        "    soup = BeautifulSoup(response.text, 'html.parser')\n",
        "\n",
        "    # 기사 리스트를 찾아옴\n",
        "    article_list = soup.select('ul.list_news > li')\n",
        "\n",
        "    if len(article_list) == 0:\n",
        "        break\n",
        "\n",
        "    # 리스트에 기반하여\n",
        "    for article in tqdm(article_list):\n",
        "        # 기사 제목 추출\n",
        "        title = article.select_one('a.news_tit').text\n",
        "\n",
        "        # 기사 링크 추출 - 하나하나의 링크 추출\n",
        "        article_url = article.select_one('a.news_tit')['href']\n",
        "\n",
        "        try:\n",
        "          # newspaper 객체를 통해 article 접속 후 데이터 추출\n",
        "          article_obj = Article(article_url, config=config)\n",
        "          article_obj.download()  # 기사 내용 다운로드\n",
        "          article_obj.parse()  # 기사 파싱\n",
        "\n",
        "          articles.append({\n",
        "            '제목': article_obj.title,\n",
        "            '날짜': article_obj.publish_date,\n",
        "            '본문': article_obj.text\n",
        "                })\n",
        "\n",
        "        except:\n",
        "          continue\n",
        "\n",
        "  # start_num은 넘어가면서 10씩 증가\n",
        "  page_num += 10\n",
        "\n",
        "# CSV 파일로 저장\n",
        "csv_file = f'{keyword}_To_{start_date}_From_{end_date}.csv'\n",
        "fieldnames = ['제목', '날짜', '본문']\n",
        "\n",
        "with open(csv_file, 'w', encoding='utf-8-sig', newline='') as f:\n",
        "    writer = csv.DictWriter(f, fieldnames=fieldnames)\n",
        "    writer.writeheader()\n",
        "    writer.writerows(articles)\n",
        "\n",
        "print(f\"\\n뉴스 기사가 '{csv_file}' 파일로 저장되었습니다.\")"
      ]
    },
    {
      "cell_type": "code",
      "execution_count": null,
      "metadata": {
        "id": "sDl_iD7-QAt6"
      },
      "outputs": [],
      "source": []
    }
  ],
  "metadata": {
    "colab": {
      "collapsed_sections": [
        "cMbfQcQvPLPA",
        "axZVIjN2PIOq"
      ],
      "provenance": [],
      "authorship_tag": "ABX9TyMRoQBlPIbdPejrmU3EdnEo",
      "include_colab_link": true
    },
    "kernelspec": {
      "display_name": "Python 3",
      "name": "python3"
    },
    "language_info": {
      "name": "python"
    }
  },
  "nbformat": 4,
  "nbformat_minor": 0
}